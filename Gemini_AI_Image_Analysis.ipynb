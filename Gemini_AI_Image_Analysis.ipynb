{
  "nbformat": 4,
  "nbformat_minor": 0,
  "metadata": {
    "colab": {
      "provenance": []
    },
    "kernelspec": {
      "name": "python3",
      "display_name": "Python 3"
    },
    "language_info": {
      "name": "python"
    }
  },
  "cells": [
    {
      "cell_type": "code",
      "execution_count": 1,
      "metadata": {
        "id": "MYIFRyrAXgSG"
      },
      "outputs": [],
      "source": [
        "import google.generativeai as genai\n",
        "from google.colab import userdata\n",
        "\n",
        "GOOGLE_API_KEY=userdata.get('GOOGLE_API_KEY')\n",
        "genai.configure(api_key=GOOGLE_API_KEY)\n",
        "\n"
      ]
    },
    {
      "cell_type": "code",
      "source": [
        "from google import genai\n",
        "from google.genai import types\n",
        "client=genai.Client(api_key=GOOGLE_API_KEY)"
      ],
      "metadata": {
        "id": "oCZLWXlKZH8z"
      },
      "execution_count": 4,
      "outputs": []
    },
    {
      "cell_type": "code",
      "source": [
        "import pathlib\n",
        "import textwrap\n",
        "\n",
        "from IPython.display import display, Markdown\n",
        "\n",
        "def to_markdown(text):\n",
        "    text = text.replace('*', ' - ')\n",
        "    return Markdown(textwrap.indent(text, '> ', predicate=lambda _: True))"
      ],
      "metadata": {
        "id": "qN7hH9HGYGyv"
      },
      "execution_count": 5,
      "outputs": []
    },
    {
      "cell_type": "code",
      "source": [
        "import PIL.Image\n",
        "import google.generativeai as genai # Import the correct module using its original name\n",
        "\n",
        "img = PIL.Image.open(\"/content/Image20250311094354.jpg\")\n",
        "img\n",
        "\n",
        "# Use google.generativeai, avoiding the variable name collision\n",
        "model = genai.GenerativeModel('gemini-1.5-flash')\n",
        "response = model.generate_content([\"Write a short, on post based on this picture. It should include a description of the photo.\",img],stream=True )\n",
        "response.resolve()"
      ],
      "metadata": {
        "id": "x4jFNismZMWi"
      },
      "execution_count": 11,
      "outputs": []
    },
    {
      "cell_type": "code",
      "source": [
        "to_markdown(response.text)"
      ],
      "metadata": {
        "colab": {
          "base_uri": "https://localhost:8080/",
          "height": 237
        },
        "id": "PBbl3p6Ab-Oq",
        "outputId": "2fbe0142-906a-4fb0-f2d3-e9167d6ecb7e"
      },
      "execution_count": 12,
      "outputs": [
        {
          "output_type": "execute_result",
          "data": {
            "text/plain": [
              "<IPython.core.display.Markdown object>"
            ],
            "text/markdown": "> Here's a short Instagram-style post based on the image:\n> \n>  -  - Image: -  -  Two clear glass containers filled with healthy, prepped meals. Each contains a bed of fluffy white rice, topped with stir-fried chicken, vibrant orange and red bell peppers, and bright green broccoli florets.  A pair of chopsticks rest beside the containers on a gray textured background.\n> \n>  -  - Caption: -  - \n> \n> Meal prepping made easy! ✨  These chicken and veggie bowls are packed with flavor and nutrients, perfect for a quick and healthy lunch or dinner.  #mealprep #healthyfood #cleaneating #chickenandveggies #lunchideas #dinnerideas #easyrecipes #healthylifestyle #foodie #foodphotography\n"
          },
          "metadata": {},
          "execution_count": 12
        }
      ]
    },
    {
      "cell_type": "code",
      "source": [
        "response = model.generate_content([\"Generate an accurate caption for this image.\",img])\n",
        "print(response.text)"
      ],
      "metadata": {
        "colab": {
          "base_uri": "https://localhost:8080/",
          "height": 419
        },
        "id": "Ti_fYzwgeCCm",
        "outputId": "678873ff-85a8-4319-cce8-818c96c1bda4"
      },
      "execution_count": 15,
      "outputs": [
        {
          "output_type": "stream",
          "name": "stdout",
          "text": [
            "Here are a few caption options for the image:\n",
            "\n",
            "**Option 1 (Simple & Descriptive):**\n",
            "\n",
            "> Healthy and delicious meal prep!  Chicken and broccoli with rice.\n",
            "\n",
            "**Option 2 (Slightly more engaging):**\n",
            "\n",
            "> Two containers of healthy goodness ready for the week!  Chicken, broccoli, carrots, and rice.  Perfect for lunch or dinner.\n",
            "\n",
            "**Option 3 (Focus on convenience):**\n",
            "\n",
            "> Meal prepping made easy.  These chicken and veggie bowls are packed with flavor and ready in minutes. #mealprep #healthyfood #chickendinner\n",
            "\n",
            "\n",
            "**Option 4 (More detailed):**\n",
            "\n",
            "> Teriyaki chicken and broccoli with rice. These nutritious and flavorful meal prep containers are perfect for a quick and healthy lunch or dinner on the go. #mealprepsunday #healthylifestyle #teriyaki\n",
            "\n",
            "\n",
            "Choose the caption that best suits your intended audience and platform.\n",
            "\n"
          ]
        }
      ]
    },
    {
      "cell_type": "code",
      "source": [
        "from PIL import Image\n",
        "image_path=\"/content/eg (1).jpg\"\n",
        "image = Image.open(image_path)\n",
        "response = model.generate_content([\"Describe this image in detail.\",image])\n",
        "print(response.text)"
      ],
      "metadata": {
        "colab": {
          "base_uri": "https://localhost:8080/",
          "height": 297
        },
        "id": "lZeWOlI5ecgW",
        "outputId": "b09da6e3-7611-443d-83e7-f55df528ef79"
      },
      "execution_count": 16,
      "outputs": [
        {
          "output_type": "stream",
          "name": "stdout",
          "text": [
            "Here's a description of the image:\n",
            "\n",
            "Close-up view of a majestic eagle in flight, captured with dramatic lighting and a dark, moody background. \n",
            "\n",
            "\n",
            "Here's a breakdown of the details:\n",
            "\n",
            "* **The Eagle:** The eagle is the central focus, occupying most of the frame. Its wings are fully spread, showcasing intricate details of its feathers. The feathers are dark brown and black, with subtle variations in shading that give them depth and texture. The eagle's head is turned slightly, revealing a sharp, intense gaze. Its beak is open slightly, giving the impression of a powerful call or a fierce expression. The talons are clearly visible and extended, suggesting it is about to land or seize prey.\n",
            "\n",
            "* **The Background:** The background is blurred but depicts a dark forest with a suggestion of dimly lit trees. The ground beneath the eagle appears to be rocky and uneven, with hints of an orange-brown, almost fiery, glow or dust at the base. This glow is subtle, more like embers or dust than a full-blown fire, and contributes to the overall dramatic atmosphere.  The dark background emphasizes the eagle's silhouette.\n",
            "\n",
            "* **Lighting and Atmosphere:** The lighting is highly dramatic, with the eagle seemingly illuminated from both above and below. This creates a strong contrast between the eagle's form and the dark, shadowy environment. The overall mood is powerful, dramatic, and slightly ominous, suggesting a sense of strength and perhaps even danger. The sparks or glowing embers near the eagle’s feet contribute to the image's intensity.\n",
            "\n",
            "The image is likely digitally enhanced or manipulated to achieve its dramatic effect.  The sharpness of the eagle contrasts with the soft blurriness of the background, typical of a style used to draw attention to the subject.\n",
            "\n"
          ]
        }
      ]
    },
    {
      "cell_type": "code",
      "source": [
        "response=model.generate_content([\"what emotions can you detect from the image\", image])\n",
        "print(response.text)"
      ],
      "metadata": {
        "colab": {
          "base_uri": "https://localhost:8080/",
          "height": 245
        },
        "id": "gHXKSiYjgrZ0",
        "outputId": "565e1684-8ac7-4e5d-bbf4-054bb847ac00"
      },
      "execution_count": 17,
      "outputs": [
        {
          "output_type": "stream",
          "name": "stdout",
          "text": [
            "The image evokes a range of powerful emotions, primarily centered around feelings of:\n",
            "\n",
            "* **Power and dominance:** The eagle's size, posture, and sharp gaze convey a sense of strength and control.  Its wings are spread wide, suggesting authority and readiness to strike.\n",
            "\n",
            "* **Aggression and ferocity:** The eagle's open beak and talons suggest it is ready to attack or defend its territory. The fiery background further intensifies this aggressive feeling.\n",
            "\n",
            "* **Fear and awe:**  The dramatic lighting and the eagle's imposing presence are likely to inspire a sense of fear and wonder in the viewer.  It is a formidable creature, capable of both beauty and destruction.\n",
            "\n",
            "* **Mystery and darkness:** The dark, foreboding forest setting and the smoky, fiery ground contribute to an overall feeling of mystery and danger.\n",
            "\n",
            "The combination of these emotions creates a complex and intense experience for the viewer. The image is not simply about a bird; it's about primal forces, nature's raw power, and the feeling of being confronted by something both beautiful and terrifying.\n",
            "\n"
          ]
        }
      ]
    },
    {
      "cell_type": "code",
      "source": [],
      "metadata": {
        "id": "wyR54NEVho8x"
      },
      "execution_count": null,
      "outputs": []
    }
  ]
}